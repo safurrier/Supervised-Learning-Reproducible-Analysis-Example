{
 "cells": [
  {
   "cell_type": "code",
   "execution_count": 1,
   "metadata": {},
   "outputs": [],
   "source": [
    "import ruamel.yaml as yaml\n",
    "import os\n",
    "import sys\n",
    "import pandas as pd\n",
    "import numpy as np\n",
    "import pandas_profiling\n",
    "import altair as alt\n",
    "alt.themes.enable('opaque')\n",
    "\n",
    "\n",
    "NO_CONFIG_ERR_MSG = \"\"\"No config file found. Root directory is determined by presence of \"config.yaml\" file.\"\"\"\n",
    "\n",
    "original_wd = os.getcwd()\n",
    "\n",
    "# Number of times to move back in directory\n",
    "num_retries = 10\n",
    "for x in range(0, num_retries):\n",
    "    # try to load config file\n",
    "    try:\n",
    "        with open(\"config.yaml\", 'r') as stream:\n",
    "            cfg = yaml.safe_load(stream)\n",
    "    # If not found move back one directory level\n",
    "    except FileNotFoundError:\n",
    "        os.chdir('../')\n",
    "        # If reached the max number of directory levels change to original wd and print error msg\n",
    "        if x+1 == num_retries:\n",
    "            os.chdir(original_wd)\n",
    "            print(NO_CONFIG_ERR_MSG)\n",
    "\n",
    "# Add directory to PATH\n",
    "path = os.getcwd()\n",
    "\n",
    "if path not in sys.path:\n",
    "    sys.path.append(path)"
   ]
  },
  {
   "cell_type": "markdown",
   "metadata": {},
   "source": [
    "# Load Data"
   ]
  },
  {
   "cell_type": "code",
   "execution_count": 2,
   "metadata": {},
   "outputs": [],
   "source": [
    "madelon_df = pd.read_hdf('data/processed/datasets.hdf', 'madelon', complib='blosc', complevel=9)\n",
    "\n",
    "# Uncomment hdf to use process text (i.e. no Rings)\n",
    "abalone_df = pd.read_hdf('data/processed/datasets.hdf', 'abalone', complib='blosc', complevel=9)"
   ]
  },
  {
   "cell_type": "markdown",
   "metadata": {},
   "source": [
    "5. Discussion: Algorithms Analysis\n",
    "    * For each algorithm: \n",
    "        * Train/Test Error Rates\n",
    "            * At the end if there's enough time, might want to add\n",
    "            precision, recall, f1 score as metrics on best hyper param models\n",
    "        * Training Time\n",
    "        * Learning Rate\n",
    "        * 'Overfitting' Curves (Expressiveness)\n",
    "        * Hyperparameter Analysis\n",
    "            * Why did these come out the best? \n",
    "            Discuss what each parameter does and reasoning for why that performed best. \n",
    "            Look at Grid search results if possible to see if distribution of params change \n",
    "            the outcome much (i.e. the effect of param on performance)\n",
    "\n",
    "\n",
    "\n",
    "#### Artificial Neural Network\n",
    "\n"
   ]
  },
  {
   "cell_type": "markdown",
   "metadata": {},
   "source": [
    "Ideas:\n",
    "\n",
    "Best Params --> Justification\n",
    "\n",
    "Columns\n",
    "\n",
    "* LC, Complexity Curve, and OF curve as columns in Altair plot\n",
    "\n",
    "Rows\n",
    "\n",
    "* Datasets\n",
    "\n",
    "Color\n",
    "\n",
    "* Train Test\n",
    "\n",
    "Facet Plot\n"
   ]
  },
  {
   "cell_type": "markdown",
   "metadata": {},
   "source": [
    "## Params"
   ]
  },
  {
   "cell_type": "code",
   "execution_count": 3,
   "metadata": {},
   "outputs": [
    {
     "data": {
      "text/plain": [
       "['ANN_abalone_LC_test.csv',\n",
       " 'ANN_abalone_LC_train.csv',\n",
       " 'ANN_abalone_reg.csv',\n",
       " 'ANN_abalone_timing.csv',\n",
       " 'ITERtestSET_ANN_abalone.csv',\n",
       " 'ITERtestSET_ANN_OF_abalone.csv',\n",
       " 'ITER_base_ANN_abalone.csv',\n",
       " 'ITER_base_ANN_OF_abalone.csv']"
      ]
     },
     "execution_count": 3,
     "metadata": {},
     "output_type": "execute_result"
    }
   ],
   "source": [
    "DATASET = 'abalone'\n",
    "ALGORITHM = 'ANN'\n",
    "from pathlib import Path\n",
    "RESULTS_PATH = Path('reports/output')\n",
    "\n",
    "# Loop through and find relevant files\n",
    "relevant_files = []\n",
    "for file in os.listdir(RESULTS_PATH):\n",
    "    #print(file)\n",
    "    fname_split = file.split(\"_\")\n",
    "    # Split last string on extension\n",
    "    file_ext = fname_split.pop()\n",
    "    fname_split = fname_split + file_ext.split('.')\n",
    "    #print(fname_split)\n",
    "    if (DATASET in fname_split) & (ALGORITHM in fname_split):\n",
    "        relevant_files.append(file)\n",
    "relevant_files        "
   ]
  },
  {
   "cell_type": "markdown",
   "metadata": {},
   "source": [
    "## Load Best Params for each algorithm "
   ]
  },
  {
   "cell_type": "code",
   "execution_count": 4,
   "metadata": {},
   "outputs": [
    {
     "data": {
      "text/html": [
       "<div>\n",
       "<style scoped>\n",
       "    .dataframe tbody tr th:only-of-type {\n",
       "        vertical-align: middle;\n",
       "    }\n",
       "\n",
       "    .dataframe tbody tr th {\n",
       "        vertical-align: top;\n",
       "    }\n",
       "\n",
       "    .dataframe thead th {\n",
       "        text-align: right;\n",
       "    }\n",
       "</style>\n",
       "<table border=\"1\" class=\"dataframe\">\n",
       "  <thead>\n",
       "    <tr style=\"text-align: right;\">\n",
       "      <th></th>\n",
       "      <th>Algorithm</th>\n",
       "      <th>Dataset</th>\n",
       "      <th>Score</th>\n",
       "      <th>Hyperparameters</th>\n",
       "      <th>Unnamed: 4</th>\n",
       "      <th>Unnamed: 5</th>\n",
       "      <th>Unnamed: 6</th>\n",
       "      <th>Unnamed: 7</th>\n",
       "    </tr>\n",
       "  </thead>\n",
       "  <tbody>\n",
       "    <tr>\n",
       "      <th>0</th>\n",
       "      <td>ANN</td>\n",
       "      <td>madelon</td>\n",
       "      <td>0.762821</td>\n",
       "      <td>{'MLP__activation': 'relu'</td>\n",
       "      <td>'MLP__alpha': 0.0001</td>\n",
       "      <td>'MLP__hidden_layer_sizes': (62</td>\n",
       "      <td>62.0</td>\n",
       "      <td>62)}</td>\n",
       "    </tr>\n",
       "    <tr>\n",
       "      <th>1</th>\n",
       "      <td>ANN</td>\n",
       "      <td>abalone</td>\n",
       "      <td>0.621138</td>\n",
       "      <td>{'MLP__activation': 'relu'</td>\n",
       "      <td>'MLP__alpha': 1.0</td>\n",
       "      <td>'MLP__hidden_layer_sizes': (20</td>\n",
       "      <td>20.0</td>\n",
       "      <td>20)}</td>\n",
       "    </tr>\n",
       "    <tr>\n",
       "      <th>2</th>\n",
       "      <td>Boost</td>\n",
       "      <td>madelon</td>\n",
       "      <td>0.826923</td>\n",
       "      <td>{'Boost__base_estimator__alpha': -0.001</td>\n",
       "      <td>'Boost__n_estimators': 5}</td>\n",
       "      <td>NaN</td>\n",
       "      <td>NaN</td>\n",
       "      <td>NaN</td>\n",
       "    </tr>\n",
       "    <tr>\n",
       "      <th>3</th>\n",
       "      <td>Boost</td>\n",
       "      <td>abalone</td>\n",
       "      <td>0.628263</td>\n",
       "      <td>{'Boost__base_estimator__alpha': 0.03162277660...</td>\n",
       "      <td>'Boost__n_estimators': 20}</td>\n",
       "      <td>NaN</td>\n",
       "      <td>NaN</td>\n",
       "      <td>NaN</td>\n",
       "    </tr>\n",
       "    <tr>\n",
       "      <th>4</th>\n",
       "      <td>DT</td>\n",
       "      <td>madelon</td>\n",
       "      <td>0.810256</td>\n",
       "      <td>{'DT__alpha': 0</td>\n",
       "      <td>'DT__class_weight': 'balanced'</td>\n",
       "      <td>'DT__criterion': 'gini'}</td>\n",
       "      <td>NaN</td>\n",
       "      <td>NaN</td>\n",
       "    </tr>\n",
       "    <tr>\n",
       "      <th>5</th>\n",
       "      <td>DT</td>\n",
       "      <td>abalone</td>\n",
       "      <td>0.618223</td>\n",
       "      <td>{'DT__alpha': 0.01</td>\n",
       "      <td>'DT__class_weight': 'balanced'</td>\n",
       "      <td>'DT__criterion': 'gini'}</td>\n",
       "      <td>NaN</td>\n",
       "      <td>NaN</td>\n",
       "    </tr>\n",
       "    <tr>\n",
       "      <th>6</th>\n",
       "      <td>KNN</td>\n",
       "      <td>madelon</td>\n",
       "      <td>0.864103</td>\n",
       "      <td>{'KNN__metric': 'manhattan'</td>\n",
       "      <td>'KNN__n_neighbors': 10</td>\n",
       "      <td>'KNN__weights': 'distance'}</td>\n",
       "      <td>NaN</td>\n",
       "      <td>NaN</td>\n",
       "    </tr>\n",
       "    <tr>\n",
       "      <th>7</th>\n",
       "      <td>KNN</td>\n",
       "      <td>abalone</td>\n",
       "      <td>0.628263</td>\n",
       "      <td>{'KNN__metric': 'chebyshev'</td>\n",
       "      <td>'KNN__n_neighbors': 34</td>\n",
       "      <td>'KNN__weights': 'distance'}</td>\n",
       "      <td>NaN</td>\n",
       "      <td>NaN</td>\n",
       "    </tr>\n",
       "    <tr>\n",
       "      <th>8</th>\n",
       "      <td>SVM_Lin</td>\n",
       "      <td>madelon</td>\n",
       "      <td>0.601282</td>\n",
       "      <td>{'SVM__alpha': 0.1</td>\n",
       "      <td>'SVM__n_iter': 687}</td>\n",
       "      <td>NaN</td>\n",
       "      <td>NaN</td>\n",
       "      <td>NaN</td>\n",
       "    </tr>\n",
       "    <tr>\n",
       "      <th>9</th>\n",
       "      <td>SVM_Lin</td>\n",
       "      <td>abalone</td>\n",
       "      <td>0.622048</td>\n",
       "      <td>{'SVM__alpha': 0.0001</td>\n",
       "      <td>'SVM__n_iter': 428}</td>\n",
       "      <td>NaN</td>\n",
       "      <td>NaN</td>\n",
       "      <td>NaN</td>\n",
       "    </tr>\n",
       "    <tr>\n",
       "      <th>10</th>\n",
       "      <td>SVM_RBF</td>\n",
       "      <td>madelon</td>\n",
       "      <td>0.837179</td>\n",
       "      <td>{'SVM__alpha': 0.00031622776601683794</td>\n",
       "      <td>'SVM__gamma_frac': 0.15000000000000002</td>\n",
       "      <td>'SVM__n_iter': 687}</td>\n",
       "      <td>NaN</td>\n",
       "      <td>NaN</td>\n",
       "    </tr>\n",
       "    <tr>\n",
       "      <th>11</th>\n",
       "      <td>SVM_RBF</td>\n",
       "      <td>abalone</td>\n",
       "      <td>0.633860</td>\n",
       "      <td>{'SVM__alpha': 0.0031622776601683794</td>\n",
       "      <td>'SVM__gamma_frac': 0.2</td>\n",
       "      <td>'SVM__n_iter': 428}</td>\n",
       "      <td>NaN</td>\n",
       "      <td>NaN</td>\n",
       "    </tr>\n",
       "  </tbody>\n",
       "</table>\n",
       "</div>"
      ],
      "text/plain": [
       "   Algorithm  Dataset     Score  \\\n",
       "0        ANN  madelon  0.762821   \n",
       "1        ANN  abalone  0.621138   \n",
       "2      Boost  madelon  0.826923   \n",
       "3      Boost  abalone  0.628263   \n",
       "4         DT  madelon  0.810256   \n",
       "5         DT  abalone  0.618223   \n",
       "6        KNN  madelon  0.864103   \n",
       "7        KNN  abalone  0.628263   \n",
       "8    SVM_Lin  madelon  0.601282   \n",
       "9    SVM_Lin  abalone  0.622048   \n",
       "10   SVM_RBF  madelon  0.837179   \n",
       "11   SVM_RBF  abalone  0.633860   \n",
       "\n",
       "                                      Hyperparameters  \\\n",
       "0                          {'MLP__activation': 'relu'   \n",
       "1                          {'MLP__activation': 'relu'   \n",
       "2             {'Boost__base_estimator__alpha': -0.001   \n",
       "3   {'Boost__base_estimator__alpha': 0.03162277660...   \n",
       "4                                     {'DT__alpha': 0   \n",
       "5                                  {'DT__alpha': 0.01   \n",
       "6                         {'KNN__metric': 'manhattan'   \n",
       "7                         {'KNN__metric': 'chebyshev'   \n",
       "8                                  {'SVM__alpha': 0.1   \n",
       "9                               {'SVM__alpha': 0.0001   \n",
       "10              {'SVM__alpha': 0.00031622776601683794   \n",
       "11               {'SVM__alpha': 0.0031622776601683794   \n",
       "\n",
       "                                 Unnamed: 4                       Unnamed: 5  \\\n",
       "0                      'MLP__alpha': 0.0001   'MLP__hidden_layer_sizes': (62   \n",
       "1                         'MLP__alpha': 1.0   'MLP__hidden_layer_sizes': (20   \n",
       "2                 'Boost__n_estimators': 5}                              NaN   \n",
       "3                'Boost__n_estimators': 20}                              NaN   \n",
       "4            'DT__class_weight': 'balanced'         'DT__criterion': 'gini'}   \n",
       "5            'DT__class_weight': 'balanced'         'DT__criterion': 'gini'}   \n",
       "6                    'KNN__n_neighbors': 10      'KNN__weights': 'distance'}   \n",
       "7                    'KNN__n_neighbors': 34      'KNN__weights': 'distance'}   \n",
       "8                       'SVM__n_iter': 687}                              NaN   \n",
       "9                       'SVM__n_iter': 428}                              NaN   \n",
       "10   'SVM__gamma_frac': 0.15000000000000002              'SVM__n_iter': 687}   \n",
       "11                   'SVM__gamma_frac': 0.2              'SVM__n_iter': 428}   \n",
       "\n",
       "    Unnamed: 6 Unnamed: 7  \n",
       "0         62.0       62)}  \n",
       "1         20.0       20)}  \n",
       "2          NaN        NaN  \n",
       "3          NaN        NaN  \n",
       "4          NaN        NaN  \n",
       "5          NaN        NaN  \n",
       "6          NaN        NaN  \n",
       "7          NaN        NaN  \n",
       "8          NaN        NaN  \n",
       "9          NaN        NaN  \n",
       "10         NaN        NaN  \n",
       "11         NaN        NaN  "
      ]
     },
     "execution_count": 4,
     "metadata": {},
     "output_type": "execute_result"
    }
   ],
   "source": [
    "results = pd.read_csv('reports/output/test-results-reduced.csv')\n",
    "results"
   ]
  },
  {
   "cell_type": "markdown",
   "metadata": {},
   "source": [
    "Collapsing Hyperparameters into the one column\n",
    "\n",
    "    1) From 'Hyperparameters' column on turn them into strings\n",
    "    2) Sum across the row"
   ]
  },
  {
   "cell_type": "code",
   "execution_count": 5,
   "metadata": {},
   "outputs": [],
   "source": [
    "results['Best_Params'] = results.loc[:, 'Hyperparameters':].astype(str).sum(axis=1)"
   ]
  },
  {
   "cell_type": "markdown",
   "metadata": {},
   "source": [
    "## Plot Scores "
   ]
  },
  {
   "cell_type": "code",
   "execution_count": 6,
   "metadata": {},
   "outputs": [
    {
     "data": {
      "application/vnd.vegalite.v2+json": {
       "$schema": "https://vega.github.io/schema/vega-lite/v2.6.0.json",
       "config": {
        "background": "white",
        "view": {
         "height": 300,
         "width": 400
        }
       },
       "data": {
        "name": "data-f36743b896d3ba9bf089f85a6ef93a94"
       },
       "datasets": {
        "data-f36743b896d3ba9bf089f85a6ef93a94": [
         {
          "Algorithm": "ANN",
          "Best_Params": "{'MLP__activation': 'relu' 'MLP__alpha': 0.0001 'MLP__hidden_layer_sizes': (6262.0 62)}",
          "Dataset": "madelon",
          "Hyperparameters": "{'MLP__activation': 'relu'",
          "Score": 0.762820513,
          "Unnamed: 4": " 'MLP__alpha': 0.0001",
          "Unnamed: 5": " 'MLP__hidden_layer_sizes': (62",
          "Unnamed: 6": 62,
          "Unnamed: 7": " 62)}"
         },
         {
          "Algorithm": "ANN",
          "Best_Params": "{'MLP__activation': 'relu' 'MLP__alpha': 1.0 'MLP__hidden_layer_sizes': (2020.0 20)}",
          "Dataset": "abalone",
          "Hyperparameters": "{'MLP__activation': 'relu'",
          "Score": 0.621137929,
          "Unnamed: 4": " 'MLP__alpha': 1.0",
          "Unnamed: 5": " 'MLP__hidden_layer_sizes': (20",
          "Unnamed: 6": 20,
          "Unnamed: 7": " 20)}"
         },
         {
          "Algorithm": "Boost",
          "Best_Params": "{'Boost__base_estimator__alpha': -0.001 'Boost__n_estimators': 5}nannannan",
          "Dataset": "madelon",
          "Hyperparameters": "{'Boost__base_estimator__alpha': -0.001",
          "Score": 0.826923077,
          "Unnamed: 4": " 'Boost__n_estimators': 5}",
          "Unnamed: 5": null,
          "Unnamed: 6": null,
          "Unnamed: 7": null
         },
         {
          "Algorithm": "Boost",
          "Best_Params": "{'Boost__base_estimator__alpha': 0.0316227766016838 'Boost__n_estimators': 20}nannannan",
          "Dataset": "abalone",
          "Hyperparameters": "{'Boost__base_estimator__alpha': 0.0316227766016838",
          "Score": 0.628263286,
          "Unnamed: 4": " 'Boost__n_estimators': 20}",
          "Unnamed: 5": null,
          "Unnamed: 6": null,
          "Unnamed: 7": null
         },
         {
          "Algorithm": "DT",
          "Best_Params": "{'DT__alpha': 0 'DT__class_weight': 'balanced' 'DT__criterion': 'gini'}nannan",
          "Dataset": "madelon",
          "Hyperparameters": "{'DT__alpha': 0",
          "Score": 0.81025641,
          "Unnamed: 4": " 'DT__class_weight': 'balanced'",
          "Unnamed: 5": " 'DT__criterion': 'gini'}",
          "Unnamed: 6": null,
          "Unnamed: 7": null
         },
         {
          "Algorithm": "DT",
          "Best_Params": "{'DT__alpha': 0.01 'DT__class_weight': 'balanced' 'DT__criterion': 'gini'}nannan",
          "Dataset": "abalone",
          "Hyperparameters": "{'DT__alpha': 0.01",
          "Score": 0.618223327,
          "Unnamed: 4": " 'DT__class_weight': 'balanced'",
          "Unnamed: 5": " 'DT__criterion': 'gini'}",
          "Unnamed: 6": null,
          "Unnamed: 7": null
         },
         {
          "Algorithm": "KNN",
          "Best_Params": "{'KNN__metric': 'manhattan' 'KNN__n_neighbors': 10 'KNN__weights': 'distance'}nannan",
          "Dataset": "madelon",
          "Hyperparameters": "{'KNN__metric': 'manhattan'",
          "Score": 0.8641025640000001,
          "Unnamed: 4": " 'KNN__n_neighbors': 10",
          "Unnamed: 5": " 'KNN__weights': 'distance'}",
          "Unnamed: 6": null,
          "Unnamed: 7": null
         },
         {
          "Algorithm": "KNN",
          "Best_Params": "{'KNN__metric': 'chebyshev' 'KNN__n_neighbors': 34 'KNN__weights': 'distance'}nannan",
          "Dataset": "abalone",
          "Hyperparameters": "{'KNN__metric': 'chebyshev'",
          "Score": 0.628263418,
          "Unnamed: 4": " 'KNN__n_neighbors': 34",
          "Unnamed: 5": " 'KNN__weights': 'distance'}",
          "Unnamed: 6": null,
          "Unnamed: 7": null
         },
         {
          "Algorithm": "SVM_Lin",
          "Best_Params": "{'SVM__alpha': 0.1 'SVM__n_iter': 687}nannannan",
          "Dataset": "madelon",
          "Hyperparameters": "{'SVM__alpha': 0.1",
          "Score": 0.601282051,
          "Unnamed: 4": " 'SVM__n_iter': 687}",
          "Unnamed: 5": null,
          "Unnamed: 6": null,
          "Unnamed: 7": null
         },
         {
          "Algorithm": "SVM_Lin",
          "Best_Params": "{'SVM__alpha': 0.0001 'SVM__n_iter': 428}nannannan",
          "Dataset": "abalone",
          "Hyperparameters": "{'SVM__alpha': 0.0001",
          "Score": 0.6220481760000001,
          "Unnamed: 4": " 'SVM__n_iter': 428}",
          "Unnamed: 5": null,
          "Unnamed: 6": null,
          "Unnamed: 7": null
         },
         {
          "Algorithm": "SVM_RBF",
          "Best_Params": "{'SVM__alpha': 0.00031622776601683794 'SVM__gamma_frac': 0.15000000000000002 'SVM__n_iter': 687}nannan",
          "Dataset": "madelon",
          "Hyperparameters": "{'SVM__alpha': 0.00031622776601683794",
          "Score": 0.837179487,
          "Unnamed: 4": " 'SVM__gamma_frac': 0.15000000000000002",
          "Unnamed: 5": " 'SVM__n_iter': 687}",
          "Unnamed: 6": null,
          "Unnamed: 7": null
         },
         {
          "Algorithm": "SVM_RBF",
          "Best_Params": "{'SVM__alpha': 0.0031622776601683794 'SVM__gamma_frac': 0.2 'SVM__n_iter': 428}nannan",
          "Dataset": "abalone",
          "Hyperparameters": "{'SVM__alpha': 0.0031622776601683794",
          "Score": 0.6338597570000001,
          "Unnamed: 4": " 'SVM__gamma_frac': 0.2",
          "Unnamed: 5": " 'SVM__n_iter': 428}",
          "Unnamed: 6": null,
          "Unnamed: 7": null
         }
        ]
       },
       "encoding": {
        "color": {
         "field": "Dataset",
         "type": "nominal"
        },
        "column": {
         "field": "Dataset",
         "type": "nominal"
        },
        "x": {
         "field": "Algorithm",
         "type": "nominal"
        },
        "y": {
         "field": "Score",
         "scale": {
          "domain": [
           0,
           1
          ]
         },
         "type": "quantitative"
        }
       },
       "mark": "bar"
      },
      "image/png": "[encoded data removed]",
      "text/plain": [
       "<VegaLite 2 object>\n",
       "\n",
       "If you see this message, it means the renderer has not been properly enabled\n",
       "for the frontend that you are using. For more information, see\n",
       "https://altair-viz.github.io/user_guide/troubleshooting.html\n"
      ]
     },
     "execution_count": 6,
     "metadata": {},
     "output_type": "execute_result"
    }
   ],
   "source": [
    "alt.Chart(results).mark_bar().encode(\n",
    "    x='Algorithm:N',\n",
    "    y=alt.Y('Score:Q', scale=alt.Scale(domain=[0.0, 1.0])),\n",
    "    column='Dataset:N',\n",
    "    color='Dataset:N'\n",
    ")"
   ]
  },
  {
   "cell_type": "markdown",
   "metadata": {},
   "source": [
    "## Load into DataFrames"
   ]
  },
  {
   "cell_type": "code",
   "execution_count": 7,
   "metadata": {},
   "outputs": [
    {
     "data": {
      "text/plain": [
       "dict_keys(['ANN_abalone_LC_test', 'ANN_abalone_LC_train', 'ANN_abalone_reg', 'ANN_abalone_timing', 'ITERtestSET_ANN_abalone', 'ITERtestSET_ANN_OF_abalone', 'ITER_base_ANN_abalone', 'ITER_base_ANN_OF_abalone'])"
      ]
     },
     "execution_count": 7,
     "metadata": {},
     "output_type": "execute_result"
    }
   ],
   "source": [
    "df_dict = {}\n",
    "for fname in relevant_files:\n",
    "    key = fname.split('.')[0]\n",
    "    df_dict[key] = pd.read_csv(RESULTS_PATH / fname)\n",
    "df_dict.keys()"
   ]
  },
  {
   "cell_type": "code",
   "execution_count": 8,
   "metadata": {},
   "outputs": [
    {
     "data": {
      "text/html": [
       "<div>\n",
       "<style scoped>\n",
       "    .dataframe tbody tr th:only-of-type {\n",
       "        vertical-align: middle;\n",
       "    }\n",
       "\n",
       "    .dataframe tbody tr th {\n",
       "        vertical-align: top;\n",
       "    }\n",
       "\n",
       "    .dataframe thead th {\n",
       "        text-align: right;\n",
       "    }\n",
       "</style>\n",
       "<table border=\"1\" class=\"dataframe\">\n",
       "  <thead>\n",
       "    <tr style=\"text-align: right;\">\n",
       "      <th></th>\n",
       "      <th>Unnamed: 0</th>\n",
       "      <th>test</th>\n",
       "      <th>train</th>\n",
       "    </tr>\n",
       "  </thead>\n",
       "  <tbody>\n",
       "    <tr>\n",
       "      <th>0</th>\n",
       "      <td>0.1</td>\n",
       "      <td>0.000703</td>\n",
       "      <td>3.541534</td>\n",
       "    </tr>\n",
       "    <tr>\n",
       "      <th>1</th>\n",
       "      <td>0.2</td>\n",
       "      <td>0.001253</td>\n",
       "      <td>3.452417</td>\n",
       "    </tr>\n",
       "    <tr>\n",
       "      <th>2</th>\n",
       "      <td>0.3</td>\n",
       "      <td>0.001380</td>\n",
       "      <td>2.824890</td>\n",
       "    </tr>\n",
       "    <tr>\n",
       "      <th>3</th>\n",
       "      <td>0.4</td>\n",
       "      <td>0.001919</td>\n",
       "      <td>1.716508</td>\n",
       "    </tr>\n",
       "    <tr>\n",
       "      <th>4</th>\n",
       "      <td>0.5</td>\n",
       "      <td>0.002644</td>\n",
       "      <td>1.597426</td>\n",
       "    </tr>\n",
       "    <tr>\n",
       "      <th>5</th>\n",
       "      <td>0.6</td>\n",
       "      <td>0.005458</td>\n",
       "      <td>1.638496</td>\n",
       "    </tr>\n",
       "    <tr>\n",
       "      <th>6</th>\n",
       "      <td>0.7</td>\n",
       "      <td>0.024314</td>\n",
       "      <td>1.730237</td>\n",
       "    </tr>\n",
       "    <tr>\n",
       "      <th>7</th>\n",
       "      <td>0.8</td>\n",
       "      <td>0.003949</td>\n",
       "      <td>1.188533</td>\n",
       "    </tr>\n",
       "    <tr>\n",
       "      <th>8</th>\n",
       "      <td>0.9</td>\n",
       "      <td>0.009882</td>\n",
       "      <td>0.797789</td>\n",
       "    </tr>\n",
       "  </tbody>\n",
       "</table>\n",
       "</div>"
      ],
      "text/plain": [
       "   Unnamed: 0      test     train\n",
       "0         0.1  0.000703  3.541534\n",
       "1         0.2  0.001253  3.452417\n",
       "2         0.3  0.001380  2.824890\n",
       "3         0.4  0.001919  1.716508\n",
       "4         0.5  0.002644  1.597426\n",
       "5         0.6  0.005458  1.638496\n",
       "6         0.7  0.024314  1.730237\n",
       "7         0.8  0.003949  1.188533\n",
       "8         0.9  0.009882  0.797789"
      ]
     },
     "execution_count": 8,
     "metadata": {},
     "output_type": "execute_result"
    }
   ],
   "source": [
    "df_dict['ANN_abalone_timing']"
   ]
  },
  {
   "cell_type": "markdown",
   "metadata": {},
   "source": [
    "## Seperate Into Learning Curves, Timing Curves, OF curves"
   ]
  },
  {
   "cell_type": "code",
   "execution_count": 9,
   "metadata": {},
   "outputs": [],
   "source": [
    "# test_learning_df =  df_dict['ANN_abalone_LC_test']\n",
    "# CV_cols = ['CV_1', 'CV_2', 'CV_3', 'CV_4', 'CV_5']\n",
    "# test_learning_df.columns = ['Iterations'] + CV_cols\n",
    "# test_learning_df['CV_Mean'] = test_learning_df[CV_cols].mean(axis=1)\n",
    "# test_learning_df['Split'] = 'Test'\n",
    "# test_learning_df[['Iterations', 'Split', 'CV_Mean']]\n",
    "\n",
    "def tidy_learning_curve(base_df, split=None, dataset=None, algorithm=None):\n",
    "    \"\"\"Convert a learning curve df into tidy format depending\n",
    "    on train/test split specified\"\"\"\n",
    "    assert split.upper() in ['TRAIN', 'TEST'], \\\n",
    "    'Split must be \"Train\" or \"Test\"'\n",
    "    CV_cols = ['CV_1', 'CV_2', 'CV_3', 'CV_4', 'CV_5']\n",
    "    tidy_df = base_df.copy()\n",
    "    tidy_df.columns = ['Iterations'] + CV_cols\n",
    "    tidy_df['CV_Mean'] = tidy_df[CV_cols].mean(axis=1)\n",
    "    tidy_df['Split'] = split\n",
    "    tidy_df[['Iterations', 'Split', 'CV_Mean']]\n",
    "    \n",
    "    # Optionally add algorithm and dataset\n",
    "    if algorithm:\n",
    "        tidy_df['Algorithm'] = algorithm\n",
    "    if dataset:\n",
    "        tidy_df['Dataset'] = dataset    \n",
    "    return tidy_df\n",
    "\n",
    "def get_learning_curve_dfs(df_dict, algorithm=None, dataset=None):\n",
    "    \"\"\"Given a dictionary with keys of fnames and values\n",
    "    of dataframes, search for learning curve dfs, tidy them \n",
    "    and return them as a single dataframe\"\"\"\n",
    "    learning_curve_dfs = []\n",
    "    # Search in df_dict for LC which indicates\n",
    "    # Learning curve df\n",
    "    for key, df in df_dict.items():\n",
    "        if 'LC' in key.split('_'):\n",
    "            #print(key)\n",
    "            split = key.split(\"_\")[-1]\n",
    "            #print(f'Split: {split}')\n",
    "            #display(df.head())\n",
    "            # Tidy data and append to list\n",
    "            learning_curve_dfs.append(tidy_learning_curve(df, split=split,\n",
    "                                                         algorithm=algorithm,\n",
    "                                                         dataset=dataset))\n",
    "    # Concat together\n",
    "    #[display(df) for df in learning_curve_dfs]\n",
    "    learning_curve_df = pd.concat(learning_curve_dfs)\n",
    "    return learning_curve_df"
   ]
  },
  {
   "cell_type": "code",
   "execution_count": 10,
   "metadata": {},
   "outputs": [
    {
     "data": {
      "text/plain": [
       "train    9\n",
       "test     9\n",
       "Name: Split, dtype: int64"
      ]
     },
     "execution_count": 10,
     "metadata": {},
     "output_type": "execute_result"
    }
   ],
   "source": [
    "get_learning_curve_dfs(df_dict).Split.value_counts()"
   ]
  },
  {
   "cell_type": "code",
   "execution_count": 11,
   "metadata": {},
   "outputs": [
    {
     "data": {
      "text/html": [
       "<div>\n",
       "<style scoped>\n",
       "    .dataframe tbody tr th:only-of-type {\n",
       "        vertical-align: middle;\n",
       "    }\n",
       "\n",
       "    .dataframe tbody tr th {\n",
       "        vertical-align: top;\n",
       "    }\n",
       "\n",
       "    .dataframe thead th {\n",
       "        text-align: right;\n",
       "    }\n",
       "</style>\n",
       "<table border=\"1\" class=\"dataframe\">\n",
       "  <thead>\n",
       "    <tr style=\"text-align: right;\">\n",
       "      <th></th>\n",
       "      <th>Iterations</th>\n",
       "      <th>CV_1</th>\n",
       "      <th>CV_2</th>\n",
       "      <th>CV_3</th>\n",
       "      <th>CV_4</th>\n",
       "      <th>CV_5</th>\n",
       "      <th>CV_Mean</th>\n",
       "      <th>Split</th>\n",
       "    </tr>\n",
       "  </thead>\n",
       "  <tbody>\n",
       "    <tr>\n",
       "      <th>0</th>\n",
       "      <td>50</td>\n",
       "      <td>0.316904</td>\n",
       "      <td>0.323366</td>\n",
       "      <td>0.323111</td>\n",
       "      <td>0.327473</td>\n",
       "      <td>0.329275</td>\n",
       "      <td>0.324026</td>\n",
       "      <td>test</td>\n",
       "    </tr>\n",
       "    <tr>\n",
       "      <th>1</th>\n",
       "      <td>100</td>\n",
       "      <td>0.316904</td>\n",
       "      <td>0.315999</td>\n",
       "      <td>0.326412</td>\n",
       "      <td>0.329123</td>\n",
       "      <td>0.316511</td>\n",
       "      <td>0.320990</td>\n",
       "      <td>test</td>\n",
       "    </tr>\n",
       "    <tr>\n",
       "      <th>2</th>\n",
       "      <td>292</td>\n",
       "      <td>0.314512</td>\n",
       "      <td>0.333743</td>\n",
       "      <td>0.349687</td>\n",
       "      <td>0.355328</td>\n",
       "      <td>0.347818</td>\n",
       "      <td>0.340217</td>\n",
       "      <td>test</td>\n",
       "    </tr>\n",
       "    <tr>\n",
       "      <th>3</th>\n",
       "      <td>584</td>\n",
       "      <td>0.580134</td>\n",
       "      <td>0.522382</td>\n",
       "      <td>0.563320</td>\n",
       "      <td>0.596177</td>\n",
       "      <td>0.564421</td>\n",
       "      <td>0.565287</td>\n",
       "      <td>test</td>\n",
       "    </tr>\n",
       "    <tr>\n",
       "      <th>4</th>\n",
       "      <td>876</td>\n",
       "      <td>0.579866</td>\n",
       "      <td>0.546540</td>\n",
       "      <td>0.558431</td>\n",
       "      <td>0.569120</td>\n",
       "      <td>0.552822</td>\n",
       "      <td>0.561356</td>\n",
       "      <td>test</td>\n",
       "    </tr>\n",
       "  </tbody>\n",
       "</table>\n",
       "</div>"
      ],
      "text/plain": [
       "   Iterations      CV_1      CV_2      CV_3      CV_4      CV_5   CV_Mean  \\\n",
       "0          50  0.316904  0.323366  0.323111  0.327473  0.329275  0.324026   \n",
       "1         100  0.316904  0.315999  0.326412  0.329123  0.316511  0.320990   \n",
       "2         292  0.314512  0.333743  0.349687  0.355328  0.347818  0.340217   \n",
       "3         584  0.580134  0.522382  0.563320  0.596177  0.564421  0.565287   \n",
       "4         876  0.579866  0.546540  0.558431  0.569120  0.552822  0.561356   \n",
       "\n",
       "  Split  \n",
       "0  test  \n",
       "1  test  \n",
       "2  test  \n",
       "3  test  \n",
       "4  test  "
      ]
     },
     "execution_count": 11,
     "metadata": {},
     "output_type": "execute_result"
    }
   ],
   "source": [
    "\n",
    "\n",
    "learning_curve_dfs = []\n",
    "for key, df in df_dict.items():\n",
    "    if 'LC' in key.split('_'):\n",
    "        #print(key)\n",
    "        #display(df.head())\n",
    "        learning_curve_dfs.append(tidy_learning_curve(df, split=key.split('_')[-1]))\n",
    "learning_curve_df = pd.concat(learning_curve_dfs)\n",
    "learning_curve_df.head()\n",
    "\n"
   ]
  },
  {
   "cell_type": "markdown",
   "metadata": {},
   "source": [
    "## Plot"
   ]
  },
  {
   "cell_type": "code",
   "execution_count": 12,
   "metadata": {},
   "outputs": [
    {
     "data": {
      "application/vnd.vegalite.v2+json": {
       "$schema": "https://vega.github.io/schema/vega-lite/v2.6.0.json",
       "config": {
        "background": "white",
        "view": {
         "height": 300,
         "width": 400
        }
       },
       "data": {
        "name": "data-0ef653253927c2c2996df92c9e022fd4"
       },
       "datasets": {
        "data-0ef653253927c2c2996df92c9e022fd4": [
         {
          "CV_1": 0.3169041439341773,
          "CV_2": 0.32336573026228194,
          "CV_3": 0.3231112300419231,
          "CV_4": 0.3274730175720274,
          "CV_5": 0.3292748193738293,
          "CV_Mean": 0.3240257882368478,
          "Iterations": 50,
          "Split": "test"
         },
         {
          "CV_1": 0.3169041439341773,
          "CV_2": 0.3159987573780677,
          "CV_3": 0.3264115600749264,
          "CV_4": 0.3291231825885291,
          "CV_5": 0.3165105699759165,
          "CV_Mean": 0.3209896427903234,
          "Iterations": 100,
          "Split": "test"
         },
         {
          "CV_1": 0.3145117149566538,
          "CV_2": 0.33374297505226963,
          "CV_3": 0.3496871953624228,
          "CV_4": 0.3553280022747781,
          "CV_5": 0.34781752149697065,
          "CV_Mean": 0.34021748182861894,
          "Iterations": 292,
          "Split": "test"
         },
         {
          "CV_1": 0.5801338903403804,
          "CV_2": 0.5223824459602511,
          "CV_3": 0.5633195189459953,
          "CV_4": 0.5961769781039018,
          "CV_5": 0.5644209118401208,
          "CV_Mean": 0.5652867490381299,
          "Iterations": 584,
          "Split": "test"
         },
         {
          "CV_1": 0.5798660881494035,
          "CV_2": 0.5465399985266954,
          "CV_3": 0.5584306928429158,
          "CV_4": 0.5691197052206248,
          "CV_5": 0.5528216712465593,
          "CV_Mean": 0.5613556311972399,
          "Iterations": 876,
          "Split": "test"
         },
         {
          "CV_1": 0.5753313760829163,
          "CV_2": 0.5551140898594076,
          "CV_3": 0.5684895228444506,
          "CV_4": 0.5994951477587049,
          "CV_5": 0.5669149724685735,
          "CV_Mean": 0.5730690218028106,
          "Iterations": 1169,
          "Split": "test"
         },
         {
          "CV_1": 0.5726976741809918,
          "CV_2": 0.5533122880576057,
          "CV_3": 0.5539234716447362,
          "CV_4": 0.5981463093490031,
          "CV_5": 0.5843663787424153,
          "CV_Mean": 0.5724892243949504,
          "Iterations": 1461,
          "Split": "test"
         },
         {
          "CV_1": 0.5887176317180327,
          "CV_2": 0.5587523408983238,
          "CV_3": 0.557046175189614,
          "CV_4": 0.5964383693136772,
          "CV_5": 0.5954024940153503,
          "CV_Mean": 0.5792714022269996,
          "Iterations": 1753,
          "Split": "test"
         },
         {
          "CV_1": 0.6181418596962095,
          "CV_2": 0.576814738271066,
          "CV_3": 0.5892090663312456,
          "CV_4": 0.5780011201833587,
          "CV_5": 0.5558427704479872,
          "CV_Mean": 0.5836019109859735,
          "Iterations": 2046,
          "Split": "test"
         },
         {
          "CV_1": 0.3076923076923077,
          "CV_2": 0.30303030303030304,
          "CV_3": 0.30303030303030304,
          "CV_4": 0.30303030303030304,
          "CV_5": 0.30303030303030304,
          "CV_Mean": 0.3039627039627039,
          "Iterations": 50,
          "Split": "train"
         },
         {
          "CV_1": 0.3142857142857143,
          "CV_2": 0.3103448275862069,
          "CV_3": 0.3103448275862069,
          "CV_4": 0.3103448275862069,
          "CV_5": 0.3103448275862069,
          "CV_Mean": 0.31113300492610835,
          "Iterations": 100,
          "Split": "train"
         },
         {
          "CV_1": 0.3222563427652263,
          "CV_2": 0.3425,
          "CV_3": 0.3425,
          "CV_4": 0.3425,
          "CV_5": 0.3425,
          "CV_Mean": 0.3384512685530453,
          "Iterations": 292,
          "Split": "train"
         },
         {
          "CV_1": 0.5870143434106174,
          "CV_2": 0.5315543346528098,
          "CV_3": 0.5833618107315149,
          "CV_4": 0.5833618107315149,
          "CV_5": 0.5833618107315149,
          "CV_Mean": 0.5737308220515944,
          "Iterations": 584,
          "Split": "train"
         },
         {
          "CV_1": 0.5909798205226157,
          "CV_2": 0.5703968206097406,
          "CV_3": 0.5645755041453968,
          "CV_4": 0.5645755041453968,
          "CV_5": 0.5645755041453968,
          "CV_Mean": 0.5710206307137093,
          "Iterations": 876,
          "Split": "train"
         },
         {
          "CV_1": 0.5584192408386022,
          "CV_2": 0.5630427612107077,
          "CV_3": 0.5735182528747218,
          "CV_4": 0.5823256452607695,
          "CV_5": 0.5823256452607695,
          "CV_Mean": 0.5719263090891141,
          "Iterations": 1169,
          "Split": "train"
         },
         {
          "CV_1": 0.5629081549085619,
          "CV_2": 0.5641779884205228,
          "CV_3": 0.5755341089255726,
          "CV_4": 0.582057102368536,
          "CV_5": 0.582057102368536,
          "CV_Mean": 0.5733468913983459,
          "Iterations": 1461,
          "Split": "train"
         },
         {
          "CV_1": 0.5912142230091724,
          "CV_2": 0.570351854547335,
          "CV_3": 0.573204434776521,
          "CV_4": 0.5648996156644428,
          "CV_5": 0.6112813557398679,
          "CV_Mean": 0.5821902967474678,
          "Iterations": 1753,
          "Split": "train"
         },
         {
          "CV_1": 0.6133979374110954,
          "CV_2": 0.5771482110535673,
          "CV_3": 0.5934623065339873,
          "CV_4": 0.5622278334049963,
          "CV_5": 0.5659455201487509,
          "CV_Mean": 0.5824363617104794,
          "Iterations": 2046,
          "Split": "train"
         }
        ]
       },
       "encoding": {
        "color": {
         "field": "Split",
         "type": "nominal"
        },
        "x": {
         "field": "Iterations",
         "type": "quantitative"
        },
        "y": {
         "field": "CV_Mean",
         "scale": {
          "domain": [
           0,
           1
          ]
         },
         "type": "quantitative"
        }
       },
       "mark": "line"
      },
      "image/png": "[encoded data removed]",
      "text/plain": [
       "<VegaLite 2 object>\n",
       "\n",
       "If you see this message, it means the renderer has not been properly enabled\n",
       "for the frontend that you are using. For more information, see\n",
       "https://altair-viz.github.io/user_guide/troubleshooting.html\n"
      ]
     },
     "execution_count": 12,
     "metadata": {},
     "output_type": "execute_result"
    }
   ],
   "source": [
    "alt.Chart(get_learning_curve_dfs(df_dict)).mark_line().encode(\n",
    "    x='Iterations:Q',\n",
    "    y=alt.Y('CV_Mean:Q', scale=alt.Scale(domain=[0.0, 1.0])),\n",
    "    color='Split:N'\n",
    ")"
   ]
  },
  {
   "cell_type": "markdown",
   "metadata": {},
   "source": [
    "#### Timing Curve"
   ]
  },
  {
   "cell_type": "code",
   "execution_count": 13,
   "metadata": {},
   "outputs": [],
   "source": [
    "def tidy_timing_curve(timing_df, algorithm=None, dataset=None):\n",
    "    \"\"\"Convert a learning curve df into tidy format\"\"\"\n",
    "\n",
    "    tidy_timing_df = timing_df.copy()\n",
    "    tidy_timing_df.columns = ['Training_Fractional_Size', 'Test', 'Train']\n",
    "    # Originally the first column is the test size\n",
    "    # So setting the training size is just 1 - this\n",
    "    tidy_timing_df['Training_Fractional_Size'] = (1 - tidy_timing_df['Training_Fractional_Size']).round(2)\n",
    "    tidy_timing_df = tidy_timing_df.melt(id_vars='Training_Fractional_Size', var_name='Function', value_name='Time')\n",
    "    tidy_timing_df['Function'] = tidy_timing_df['Function'].map({'Test':'Predict', 'Train':'Fit'})\n",
    "    \n",
    "    # Optionally add algorithm and dataset\n",
    "    if algorithm:\n",
    "        tidy_timing_df['Algorithm'] = algorithm\n",
    "    if dataset:\n",
    "        tidy_timing_df['Dataset'] = dataset\n",
    "    return tidy_timing_df\n",
    "    \n",
    "def get_timing_curve(df_dict, algorithm=None, dataset=None):\n",
    "    timing_curves = []\n",
    "    for key, df in df_dict.items():\n",
    "        if 'timing' in key.split('_'):\n",
    "            timing_df = df.copy()\n",
    "            timing_df = tidy_timing_curve(timing_df, algorithm=algorithm, dataset=dataset)\n",
    "            timing_curves.append(timing_df)\n",
    "    timing_curve_df = pd.concat(timing_curves)\n",
    "    return timing_curve_df"
   ]
  },
  {
   "cell_type": "code",
   "execution_count": 14,
   "metadata": {},
   "outputs": [
    {
     "data": {
      "text/html": [
       "<div>\n",
       "<style scoped>\n",
       "    .dataframe tbody tr th:only-of-type {\n",
       "        vertical-align: middle;\n",
       "    }\n",
       "\n",
       "    .dataframe tbody tr th {\n",
       "        vertical-align: top;\n",
       "    }\n",
       "\n",
       "    .dataframe thead th {\n",
       "        text-align: right;\n",
       "    }\n",
       "</style>\n",
       "<table border=\"1\" class=\"dataframe\">\n",
       "  <thead>\n",
       "    <tr style=\"text-align: right;\">\n",
       "      <th></th>\n",
       "      <th>Unnamed: 0</th>\n",
       "      <th>test</th>\n",
       "      <th>train</th>\n",
       "    </tr>\n",
       "  </thead>\n",
       "  <tbody>\n",
       "    <tr>\n",
       "      <th>0</th>\n",
       "      <td>0.1</td>\n",
       "      <td>0.000703</td>\n",
       "      <td>3.541534</td>\n",
       "    </tr>\n",
       "    <tr>\n",
       "      <th>1</th>\n",
       "      <td>0.2</td>\n",
       "      <td>0.001253</td>\n",
       "      <td>3.452417</td>\n",
       "    </tr>\n",
       "    <tr>\n",
       "      <th>2</th>\n",
       "      <td>0.3</td>\n",
       "      <td>0.001380</td>\n",
       "      <td>2.824890</td>\n",
       "    </tr>\n",
       "    <tr>\n",
       "      <th>3</th>\n",
       "      <td>0.4</td>\n",
       "      <td>0.001919</td>\n",
       "      <td>1.716508</td>\n",
       "    </tr>\n",
       "    <tr>\n",
       "      <th>4</th>\n",
       "      <td>0.5</td>\n",
       "      <td>0.002644</td>\n",
       "      <td>1.597426</td>\n",
       "    </tr>\n",
       "    <tr>\n",
       "      <th>5</th>\n",
       "      <td>0.6</td>\n",
       "      <td>0.005458</td>\n",
       "      <td>1.638496</td>\n",
       "    </tr>\n",
       "    <tr>\n",
       "      <th>6</th>\n",
       "      <td>0.7</td>\n",
       "      <td>0.024314</td>\n",
       "      <td>1.730237</td>\n",
       "    </tr>\n",
       "    <tr>\n",
       "      <th>7</th>\n",
       "      <td>0.8</td>\n",
       "      <td>0.003949</td>\n",
       "      <td>1.188533</td>\n",
       "    </tr>\n",
       "    <tr>\n",
       "      <th>8</th>\n",
       "      <td>0.9</td>\n",
       "      <td>0.009882</td>\n",
       "      <td>0.797789</td>\n",
       "    </tr>\n",
       "  </tbody>\n",
       "</table>\n",
       "</div>"
      ],
      "text/plain": [
       "   Unnamed: 0      test     train\n",
       "0         0.1  0.000703  3.541534\n",
       "1         0.2  0.001253  3.452417\n",
       "2         0.3  0.001380  2.824890\n",
       "3         0.4  0.001919  1.716508\n",
       "4         0.5  0.002644  1.597426\n",
       "5         0.6  0.005458  1.638496\n",
       "6         0.7  0.024314  1.730237\n",
       "7         0.8  0.003949  1.188533\n",
       "8         0.9  0.009882  0.797789"
      ]
     },
     "execution_count": 14,
     "metadata": {},
     "output_type": "execute_result"
    }
   ],
   "source": [
    "df_dict['ANN_abalone_timing']"
   ]
  },
  {
   "cell_type": "code",
   "execution_count": 15,
   "metadata": {},
   "outputs": [
    {
     "data": {
      "text/html": [
       "<div>\n",
       "<style scoped>\n",
       "    .dataframe tbody tr th:only-of-type {\n",
       "        vertical-align: middle;\n",
       "    }\n",
       "\n",
       "    .dataframe tbody tr th {\n",
       "        vertical-align: top;\n",
       "    }\n",
       "\n",
       "    .dataframe thead th {\n",
       "        text-align: right;\n",
       "    }\n",
       "</style>\n",
       "<table border=\"1\" class=\"dataframe\">\n",
       "  <thead>\n",
       "    <tr style=\"text-align: right;\">\n",
       "      <th></th>\n",
       "      <th>Training_Fractional_Size</th>\n",
       "      <th>Function</th>\n",
       "      <th>Time</th>\n",
       "      <th>algorithm</th>\n",
       "      <th>dataset</th>\n",
       "    </tr>\n",
       "  </thead>\n",
       "  <tbody>\n",
       "    <tr>\n",
       "      <th>0</th>\n",
       "      <td>0.9</td>\n",
       "      <td>Predict</td>\n",
       "      <td>0.000703</td>\n",
       "      <td>ANN</td>\n",
       "      <td>abalone</td>\n",
       "    </tr>\n",
       "    <tr>\n",
       "      <th>1</th>\n",
       "      <td>0.8</td>\n",
       "      <td>Predict</td>\n",
       "      <td>0.001253</td>\n",
       "      <td>ANN</td>\n",
       "      <td>abalone</td>\n",
       "    </tr>\n",
       "    <tr>\n",
       "      <th>2</th>\n",
       "      <td>0.7</td>\n",
       "      <td>Predict</td>\n",
       "      <td>0.001380</td>\n",
       "      <td>ANN</td>\n",
       "      <td>abalone</td>\n",
       "    </tr>\n",
       "    <tr>\n",
       "      <th>3</th>\n",
       "      <td>0.6</td>\n",
       "      <td>Predict</td>\n",
       "      <td>0.001919</td>\n",
       "      <td>ANN</td>\n",
       "      <td>abalone</td>\n",
       "    </tr>\n",
       "    <tr>\n",
       "      <th>4</th>\n",
       "      <td>0.5</td>\n",
       "      <td>Predict</td>\n",
       "      <td>0.002644</td>\n",
       "      <td>ANN</td>\n",
       "      <td>abalone</td>\n",
       "    </tr>\n",
       "    <tr>\n",
       "      <th>5</th>\n",
       "      <td>0.4</td>\n",
       "      <td>Predict</td>\n",
       "      <td>0.005458</td>\n",
       "      <td>ANN</td>\n",
       "      <td>abalone</td>\n",
       "    </tr>\n",
       "    <tr>\n",
       "      <th>6</th>\n",
       "      <td>0.3</td>\n",
       "      <td>Predict</td>\n",
       "      <td>0.024314</td>\n",
       "      <td>ANN</td>\n",
       "      <td>abalone</td>\n",
       "    </tr>\n",
       "    <tr>\n",
       "      <th>7</th>\n",
       "      <td>0.2</td>\n",
       "      <td>Predict</td>\n",
       "      <td>0.003949</td>\n",
       "      <td>ANN</td>\n",
       "      <td>abalone</td>\n",
       "    </tr>\n",
       "    <tr>\n",
       "      <th>8</th>\n",
       "      <td>0.1</td>\n",
       "      <td>Predict</td>\n",
       "      <td>0.009882</td>\n",
       "      <td>ANN</td>\n",
       "      <td>abalone</td>\n",
       "    </tr>\n",
       "    <tr>\n",
       "      <th>9</th>\n",
       "      <td>0.9</td>\n",
       "      <td>Fit</td>\n",
       "      <td>3.541534</td>\n",
       "      <td>ANN</td>\n",
       "      <td>abalone</td>\n",
       "    </tr>\n",
       "    <tr>\n",
       "      <th>10</th>\n",
       "      <td>0.8</td>\n",
       "      <td>Fit</td>\n",
       "      <td>3.452417</td>\n",
       "      <td>ANN</td>\n",
       "      <td>abalone</td>\n",
       "    </tr>\n",
       "    <tr>\n",
       "      <th>11</th>\n",
       "      <td>0.7</td>\n",
       "      <td>Fit</td>\n",
       "      <td>2.824890</td>\n",
       "      <td>ANN</td>\n",
       "      <td>abalone</td>\n",
       "    </tr>\n",
       "    <tr>\n",
       "      <th>12</th>\n",
       "      <td>0.6</td>\n",
       "      <td>Fit</td>\n",
       "      <td>1.716508</td>\n",
       "      <td>ANN</td>\n",
       "      <td>abalone</td>\n",
       "    </tr>\n",
       "    <tr>\n",
       "      <th>13</th>\n",
       "      <td>0.5</td>\n",
       "      <td>Fit</td>\n",
       "      <td>1.597426</td>\n",
       "      <td>ANN</td>\n",
       "      <td>abalone</td>\n",
       "    </tr>\n",
       "    <tr>\n",
       "      <th>14</th>\n",
       "      <td>0.4</td>\n",
       "      <td>Fit</td>\n",
       "      <td>1.638496</td>\n",
       "      <td>ANN</td>\n",
       "      <td>abalone</td>\n",
       "    </tr>\n",
       "    <tr>\n",
       "      <th>15</th>\n",
       "      <td>0.3</td>\n",
       "      <td>Fit</td>\n",
       "      <td>1.730237</td>\n",
       "      <td>ANN</td>\n",
       "      <td>abalone</td>\n",
       "    </tr>\n",
       "    <tr>\n",
       "      <th>16</th>\n",
       "      <td>0.2</td>\n",
       "      <td>Fit</td>\n",
       "      <td>1.188533</td>\n",
       "      <td>ANN</td>\n",
       "      <td>abalone</td>\n",
       "    </tr>\n",
       "    <tr>\n",
       "      <th>17</th>\n",
       "      <td>0.1</td>\n",
       "      <td>Fit</td>\n",
       "      <td>0.797789</td>\n",
       "      <td>ANN</td>\n",
       "      <td>abalone</td>\n",
       "    </tr>\n",
       "  </tbody>\n",
       "</table>\n",
       "</div>"
      ],
      "text/plain": [
       "    Training_Fractional_Size Function      Time algorithm  dataset\n",
       "0                        0.9  Predict  0.000703       ANN  abalone\n",
       "1                        0.8  Predict  0.001253       ANN  abalone\n",
       "2                        0.7  Predict  0.001380       ANN  abalone\n",
       "3                        0.6  Predict  0.001919       ANN  abalone\n",
       "4                        0.5  Predict  0.002644       ANN  abalone\n",
       "5                        0.4  Predict  0.005458       ANN  abalone\n",
       "6                        0.3  Predict  0.024314       ANN  abalone\n",
       "7                        0.2  Predict  0.003949       ANN  abalone\n",
       "8                        0.1  Predict  0.009882       ANN  abalone\n",
       "9                        0.9      Fit  3.541534       ANN  abalone\n",
       "10                       0.8      Fit  3.452417       ANN  abalone\n",
       "11                       0.7      Fit  2.824890       ANN  abalone\n",
       "12                       0.6      Fit  1.716508       ANN  abalone\n",
       "13                       0.5      Fit  1.597426       ANN  abalone\n",
       "14                       0.4      Fit  1.638496       ANN  abalone\n",
       "15                       0.3      Fit  1.730237       ANN  abalone\n",
       "16                       0.2      Fit  1.188533       ANN  abalone\n",
       "17                       0.1      Fit  0.797789       ANN  abalone"
      ]
     },
     "execution_count": 15,
     "metadata": {},
     "output_type": "execute_result"
    }
   ],
   "source": [
    "get_timing_curve(df_dict, dataset='abalone', algorithm='ANN')"
   ]
  },
  {
   "cell_type": "markdown",
   "metadata": {},
   "source": [
    "## Plot Timing Curve"
   ]
  },
  {
   "cell_type": "code",
   "execution_count": 16,
   "metadata": {},
   "outputs": [
    {
     "data": {
      "application/vnd.vegalite.v2+json": {
       "$schema": "https://vega.github.io/schema/vega-lite/v2.6.0.json",
       "config": {
        "background": "white",
        "view": {
         "height": 300,
         "width": 400
        }
       },
       "data": {
        "name": "data-86f84e3d934f98133067f11547619ddb"
       },
       "datasets": {
        "data-86f84e3d934f98133067f11547619ddb": [
         {
          "Function": "Predict",
          "Time": 0.0007031999998616811,
          "Training_Fractional_Size": 0.9,
          "algorithm": "ANN",
          "dataset": "abalone"
         },
         {
          "Function": "Predict",
          "Time": 0.0012526999998954125,
          "Training_Fractional_Size": 0.8,
          "algorithm": "ANN",
          "dataset": "abalone"
         },
         {
          "Function": "Predict",
          "Time": 0.0013798999998471118,
          "Training_Fractional_Size": 0.7,
          "algorithm": "ANN",
          "dataset": "abalone"
         },
         {
          "Function": "Predict",
          "Time": 0.001918999999816151,
          "Training_Fractional_Size": 0.6,
          "algorithm": "ANN",
          "dataset": "abalone"
         },
         {
          "Function": "Predict",
          "Time": 0.002643600000283186,
          "Training_Fractional_Size": 0.5,
          "algorithm": "ANN",
          "dataset": "abalone"
         },
         {
          "Function": "Predict",
          "Time": 0.005457700000079058,
          "Training_Fractional_Size": 0.4,
          "algorithm": "ANN",
          "dataset": "abalone"
         },
         {
          "Function": "Predict",
          "Time": 0.024314000000231317,
          "Training_Fractional_Size": 0.3,
          "algorithm": "ANN",
          "dataset": "abalone"
         },
         {
          "Function": "Predict",
          "Time": 0.0039494000002378024,
          "Training_Fractional_Size": 0.2,
          "algorithm": "ANN",
          "dataset": "abalone"
         },
         {
          "Function": "Predict",
          "Time": 0.009881899999982123,
          "Training_Fractional_Size": 0.1,
          "algorithm": "ANN",
          "dataset": "abalone"
         },
         {
          "Function": "Fit",
          "Time": 3.5415342999999666,
          "Training_Fractional_Size": 0.9,
          "algorithm": "ANN",
          "dataset": "abalone"
         },
         {
          "Function": "Fit",
          "Time": 3.4524166999999584,
          "Training_Fractional_Size": 0.8,
          "algorithm": "ANN",
          "dataset": "abalone"
         },
         {
          "Function": "Fit",
          "Time": 2.824890300000334,
          "Training_Fractional_Size": 0.7,
          "algorithm": "ANN",
          "dataset": "abalone"
         },
         {
          "Function": "Fit",
          "Time": 1.7165076000001136,
          "Training_Fractional_Size": 0.6,
          "algorithm": "ANN",
          "dataset": "abalone"
         },
         {
          "Function": "Fit",
          "Time": 1.597425699999803,
          "Training_Fractional_Size": 0.5,
          "algorithm": "ANN",
          "dataset": "abalone"
         },
         {
          "Function": "Fit",
          "Time": 1.6384963000000423,
          "Training_Fractional_Size": 0.4,
          "algorithm": "ANN",
          "dataset": "abalone"
         },
         {
          "Function": "Fit",
          "Time": 1.7302372999997715,
          "Training_Fractional_Size": 0.3,
          "algorithm": "ANN",
          "dataset": "abalone"
         },
         {
          "Function": "Fit",
          "Time": 1.1885333999998693,
          "Training_Fractional_Size": 0.2,
          "algorithm": "ANN",
          "dataset": "abalone"
         },
         {
          "Function": "Fit",
          "Time": 0.7977885000000242,
          "Training_Fractional_Size": 0.1,
          "algorithm": "ANN",
          "dataset": "abalone"
         }
        ]
       },
       "encoding": {
        "color": {
         "field": "Function",
         "type": "nominal"
        },
        "x": {
         "field": "Training_Fractional_Size",
         "type": "quantitative"
        },
        "y": {
         "field": "Time",
         "type": "quantitative"
        }
       },
       "mark": "line"
      },
      "image/png": "[encoded data removed]",
      "text/plain": [
       "<VegaLite 2 object>\n",
       "\n",
       "If you see this message, it means the renderer has not been properly enabled\n",
       "for the frontend that you are using. For more information, see\n",
       "https://altair-viz.github.io/user_guide/troubleshooting.html\n"
      ]
     },
     "execution_count": 16,
     "metadata": {},
     "output_type": "execute_result"
    }
   ],
   "source": [
    "alt.Chart(get_timing_curve(df_dict, dataset='abalone', algorithm='ANN')).mark_line().encode(\n",
    "    x='Training_Fractional_Size:Q',\n",
    "    y='Time:Q',\n",
    "    color='Function:N'\n",
    ")"
   ]
  },
  {
   "cell_type": "markdown",
   "metadata": {},
   "source": [
    "## Hyperparameter Charts"
   ]
  },
  {
   "cell_type": "markdown",
   "metadata": {},
   "source": [
    "Each inddividual algorithm is going to have different hyper parameters\n",
    "\n",
    "To come up with meaningful plots, may have to do facet plots across \n",
    "the alpha values and other \n",
    "\n",
    "Columns/Colors can be nominal\n",
    "\n",
    "Y should be cross val score or time"
   ]
  },
  {
   "cell_type": "code",
   "execution_count": 17,
   "metadata": {},
   "outputs": [
    {
     "data": {
      "text/html": [
       "<div>\n",
       "<style scoped>\n",
       "    .dataframe tbody tr th:only-of-type {\n",
       "        vertical-align: middle;\n",
       "    }\n",
       "\n",
       "    .dataframe tbody tr th {\n",
       "        vertical-align: top;\n",
       "    }\n",
       "\n",
       "    .dataframe thead th {\n",
       "        text-align: right;\n",
       "    }\n",
       "</style>\n",
       "<table border=\"1\" class=\"dataframe\">\n",
       "  <thead>\n",
       "    <tr style=\"text-align: right;\">\n",
       "      <th></th>\n",
       "      <th>mean_fit_time</th>\n",
       "      <th>mean_score_time</th>\n",
       "      <th>mean_test_score</th>\n",
       "      <th>mean_train_score</th>\n",
       "      <th>param_MLP__activation</th>\n",
       "      <th>param_MLP__alpha</th>\n",
       "      <th>param_MLP__hidden_layer_sizes</th>\n",
       "      <th>params</th>\n",
       "      <th>rank_test_score</th>\n",
       "      <th>split0_test_score</th>\n",
       "      <th>...</th>\n",
       "      <th>split2_test_score</th>\n",
       "      <th>split2_train_score</th>\n",
       "      <th>split3_test_score</th>\n",
       "      <th>split3_train_score</th>\n",
       "      <th>split4_test_score</th>\n",
       "      <th>split4_train_score</th>\n",
       "      <th>std_fit_time</th>\n",
       "      <th>std_score_time</th>\n",
       "      <th>std_test_score</th>\n",
       "      <th>std_train_score</th>\n",
       "    </tr>\n",
       "  </thead>\n",
       "  <tbody>\n",
       "    <tr>\n",
       "      <th>0</th>\n",
       "      <td>0.225997</td>\n",
       "      <td>0.001601</td>\n",
       "      <td>0.581741</td>\n",
       "      <td>0.586657</td>\n",
       "      <td>relu</td>\n",
       "      <td>10.0</td>\n",
       "      <td>(10,)</td>\n",
       "      <td>{'MLP__activation': 'relu', 'MLP__alpha': 10.0...</td>\n",
       "      <td>40</td>\n",
       "      <td>0.551251</td>\n",
       "      <td>...</td>\n",
       "      <td>0.584358</td>\n",
       "      <td>0.591831</td>\n",
       "      <td>0.588927</td>\n",
       "      <td>0.582695</td>\n",
       "      <td>0.580703</td>\n",
       "      <td>0.589934</td>\n",
       "      <td>0.057442</td>\n",
       "      <td>0.000801</td>\n",
       "      <td>0.017127</td>\n",
       "      <td>0.007014</td>\n",
       "    </tr>\n",
       "    <tr>\n",
       "      <th>1</th>\n",
       "      <td>0.256000</td>\n",
       "      <td>0.001402</td>\n",
       "      <td>0.531294</td>\n",
       "      <td>0.532930</td>\n",
       "      <td>relu</td>\n",
       "      <td>10.0</td>\n",
       "      <td>(5,)</td>\n",
       "      <td>{'MLP__activation': 'relu', 'MLP__alpha': 10.0...</td>\n",
       "      <td>136</td>\n",
       "      <td>0.522201</td>\n",
       "      <td>...</td>\n",
       "      <td>0.520757</td>\n",
       "      <td>0.543399</td>\n",
       "      <td>0.554373</td>\n",
       "      <td>0.530121</td>\n",
       "      <td>0.531280</td>\n",
       "      <td>0.535905</td>\n",
       "      <td>0.086310</td>\n",
       "      <td>0.000488</td>\n",
       "      <td>0.012144</td>\n",
       "      <td>0.010654</td>\n",
       "    </tr>\n",
       "    <tr>\n",
       "      <th>2</th>\n",
       "      <td>0.125401</td>\n",
       "      <td>0.001999</td>\n",
       "      <td>0.541019</td>\n",
       "      <td>0.543287</td>\n",
       "      <td>relu</td>\n",
       "      <td>10.0</td>\n",
       "      <td>(20,)</td>\n",
       "      <td>{'MLP__activation': 'relu', 'MLP__alpha': 10.0...</td>\n",
       "      <td>103</td>\n",
       "      <td>0.544865</td>\n",
       "      <td>...</td>\n",
       "      <td>0.522013</td>\n",
       "      <td>0.533139</td>\n",
       "      <td>0.534003</td>\n",
       "      <td>0.530742</td>\n",
       "      <td>0.528284</td>\n",
       "      <td>0.535424</td>\n",
       "      <td>0.034865</td>\n",
       "      <td>0.001097</td>\n",
       "      <td>0.018981</td>\n",
       "      <td>0.013186</td>\n",
       "    </tr>\n",
       "    <tr>\n",
       "      <th>3</th>\n",
       "      <td>0.184801</td>\n",
       "      <td>0.002599</td>\n",
       "      <td>0.542441</td>\n",
       "      <td>0.546791</td>\n",
       "      <td>relu</td>\n",
       "      <td>10.0</td>\n",
       "      <td>(10, 10)</td>\n",
       "      <td>{'MLP__activation': 'relu', 'MLP__alpha': 10.0...</td>\n",
       "      <td>96</td>\n",
       "      <td>0.556592</td>\n",
       "      <td>...</td>\n",
       "      <td>0.519567</td>\n",
       "      <td>0.555113</td>\n",
       "      <td>0.564541</td>\n",
       "      <td>0.542333</td>\n",
       "      <td>0.543005</td>\n",
       "      <td>0.551032</td>\n",
       "      <td>0.035226</td>\n",
       "      <td>0.002724</td>\n",
       "      <td>0.016773</td>\n",
       "      <td>0.008002</td>\n",
       "    </tr>\n",
       "    <tr>\n",
       "      <th>4</th>\n",
       "      <td>0.171400</td>\n",
       "      <td>0.001600</td>\n",
       "      <td>0.505071</td>\n",
       "      <td>0.510227</td>\n",
       "      <td>relu</td>\n",
       "      <td>10.0</td>\n",
       "      <td>(5, 5)</td>\n",
       "      <td>{'MLP__activation': 'relu', 'MLP__alpha': 10.0...</td>\n",
       "      <td>162</td>\n",
       "      <td>0.361345</td>\n",
       "      <td>...</td>\n",
       "      <td>0.539315</td>\n",
       "      <td>0.551384</td>\n",
       "      <td>0.548433</td>\n",
       "      <td>0.545998</td>\n",
       "      <td>0.522466</td>\n",
       "      <td>0.550251</td>\n",
       "      <td>0.055953</td>\n",
       "      <td>0.000800</td>\n",
       "      <td>0.072766</td>\n",
       "      <td>0.072363</td>\n",
       "    </tr>\n",
       "  </tbody>\n",
       "</table>\n",
       "<p>5 rows × 23 columns</p>\n",
       "</div>"
      ],
      "text/plain": [
       "   mean_fit_time  mean_score_time  mean_test_score  mean_train_score  \\\n",
       "0       0.225997         0.001601         0.581741          0.586657   \n",
       "1       0.256000         0.001402         0.531294          0.532930   \n",
       "2       0.125401         0.001999         0.541019          0.543287   \n",
       "3       0.184801         0.002599         0.542441          0.546791   \n",
       "4       0.171400         0.001600         0.505071          0.510227   \n",
       "\n",
       "  param_MLP__activation  param_MLP__alpha param_MLP__hidden_layer_sizes  \\\n",
       "0                  relu              10.0                         (10,)   \n",
       "1                  relu              10.0                          (5,)   \n",
       "2                  relu              10.0                         (20,)   \n",
       "3                  relu              10.0                      (10, 10)   \n",
       "4                  relu              10.0                        (5, 5)   \n",
       "\n",
       "                                              params  rank_test_score  \\\n",
       "0  {'MLP__activation': 'relu', 'MLP__alpha': 10.0...               40   \n",
       "1  {'MLP__activation': 'relu', 'MLP__alpha': 10.0...              136   \n",
       "2  {'MLP__activation': 'relu', 'MLP__alpha': 10.0...              103   \n",
       "3  {'MLP__activation': 'relu', 'MLP__alpha': 10.0...               96   \n",
       "4  {'MLP__activation': 'relu', 'MLP__alpha': 10.0...              162   \n",
       "\n",
       "   split0_test_score       ...         split2_test_score  split2_train_score  \\\n",
       "0           0.551251       ...                  0.584358            0.591831   \n",
       "1           0.522201       ...                  0.520757            0.543399   \n",
       "2           0.544865       ...                  0.522013            0.533139   \n",
       "3           0.556592       ...                  0.519567            0.555113   \n",
       "4           0.361345       ...                  0.539315            0.551384   \n",
       "\n",
       "   split3_test_score  split3_train_score  split4_test_score  \\\n",
       "0           0.588927            0.582695           0.580703   \n",
       "1           0.554373            0.530121           0.531280   \n",
       "2           0.534003            0.530742           0.528284   \n",
       "3           0.564541            0.542333           0.543005   \n",
       "4           0.548433            0.545998           0.522466   \n",
       "\n",
       "   split4_train_score  std_fit_time  std_score_time  std_test_score  \\\n",
       "0            0.589934      0.057442        0.000801        0.017127   \n",
       "1            0.535905      0.086310        0.000488        0.012144   \n",
       "2            0.535424      0.034865        0.001097        0.018981   \n",
       "3            0.551032      0.035226        0.002724        0.016773   \n",
       "4            0.550251      0.055953        0.000800        0.072766   \n",
       "\n",
       "   std_train_score  \n",
       "0         0.007014  \n",
       "1         0.010654  \n",
       "2         0.013186  \n",
       "3         0.008002  \n",
       "4         0.072363  \n",
       "\n",
       "[5 rows x 23 columns]"
      ]
     },
     "execution_count": 17,
     "metadata": {},
     "output_type": "execute_result"
    }
   ],
   "source": [
    "df_dict['ANN_abalone_reg'].head()"
   ]
  },
  {
   "cell_type": "markdown",
   "metadata": {},
   "source": [
    "## Overfitting Charts"
   ]
  },
  {
   "cell_type": "code",
   "execution_count": 18,
   "metadata": {},
   "outputs": [
    {
     "data": {
      "text/plain": [
       "dict_keys(['ANN_abalone_LC_test', 'ANN_abalone_LC_train', 'ANN_abalone_reg', 'ANN_abalone_timing', 'ITERtestSET_ANN_abalone', 'ITERtestSET_ANN_OF_abalone', 'ITER_base_ANN_abalone', 'ITER_base_ANN_OF_abalone'])"
      ]
     },
     "execution_count": 18,
     "metadata": {},
     "output_type": "execute_result"
    }
   ],
   "source": [
    "df_dict.keys()"
   ]
  },
  {
   "cell_type": "markdown",
   "metadata": {},
   "source": [
    "ITER_base_ANN_OF_abalone"
   ]
  },
  {
   "cell_type": "markdown",
   "metadata": {},
   "source": [
    "\n",
    "Could do column for time vs score or something\n",
    "Column could also be overfitting or not\n",
    "\n",
    "X is iterations\n",
    "Y is score or time\n",
    "\n",
    "Color is Train/Test\n",
    "\n",
    "Scatterplot iteration by time, score is gradient of color"
   ]
  },
  {
   "cell_type": "code",
   "execution_count": 57,
   "metadata": {},
   "outputs": [],
   "source": [
    "\n",
    "testing_non_OF = df_dict['ITERtestSET_ANN_abalone']\n",
    "testing_OF = df_dict['ITERtestSET_ANN_OF_abalone']\n",
    "testing_non_OF.iloc[:, 0].name\n",
    "\n",
    "def get_overfitting_curve(df_dict, algorithm=None, dataset=None):\n",
    "    iter_dfs = []\n",
    "    for key, df in df_dict.items():\n",
    "        if 'ITERtestSET' in key.split('_'):\n",
    "            if 'OF' in key.split('_'):\n",
    "                of_iter_df = df.copy()\n",
    "                of_iter_df = tidy_iter_df(of_iter_df, param_set='No_Regularization', \n",
    "                                          algorithm=algorithm, dataset=dataset)\n",
    "                iter_dfs.append(of_iter_df)\n",
    "            else:\n",
    "                non_of_iter_df = df.copy()\n",
    "                non_of_iter_df = tidy_iter_df(non_of_iter_df, param_set='Best_Hyperparameters', \n",
    "                                          algorithm=algorithm, dataset=dataset)\n",
    "                iter_dfs.append(non_of_iter_df)                \n",
    "    iter_dfs =pd.concat(iter_dfs)\n",
    "    return iter_dfs"
   ]
  },
  {
   "cell_type": "code",
   "execution_count": 60,
   "metadata": {},
   "outputs": [],
   "source": [
    "def tidy_iter_df(iter_df, param_set=None, dataset=None, algorithm=None):\n",
    "    # Melt data\n",
    "    first_col_name = [col for col in iter_df if col.endswith('max_iter')]\n",
    "    tidied_iter_df = pd.melt(iter_df, id_vars=first_col_name, var_name='Split', value_name='Score')\n",
    "    # Clean up split\n",
    "    tidied_iter_df.Split = tidied_iter_df.Split.str.split(' ').str.get(0).str.title()\n",
    "    # Add apram_set (e.g. overfitting or not), dataset, algorithm if applicacable\n",
    "    if algorithm:\n",
    "        tidied_iter_df['Hyperparameters'] = param_set    \n",
    "    if algorithm:\n",
    "        tidied_iter_df['Algorithm'] = algorithm\n",
    "    if dataset:\n",
    "        tidied_iter_df['Dataset'] = dataset\n",
    "    return tidied_iter_df\n",
    "# overfitting_analysis_df = pd.concat([tidy_iter_df(testing_OF, param_set='No_Regularization', dataset='Abalone', algorithm='NN'),\n",
    "#            tidy_iter_df(testing_non_OF, param_set='Best_Hyperparameters', dataset='Abalone', algorithm='NN'),\n",
    "#           ])"
   ]
  },
  {
   "cell_type": "markdown",
   "metadata": {},
   "source": [
    "## Plot Overfitting curve"
   ]
  },
  {
   "cell_type": "code",
   "execution_count": 64,
   "metadata": {},
   "outputs": [
    {
     "data": {
      "application/vnd.vegalite.v2+json": {
       "$schema": "https://vega.github.io/schema/vega-lite/v2.6.0.json",
       "config": {
        "background": "white",
        "view": {
         "height": 300,
         "width": 400
        }
       },
       "data": {
        "name": "data-5df09c6bb0b59692b4c90705f1c76bc8"
       },
       "datasets": {
        "data-5df09c6bb0b59692b4c90705f1c76bc8": [
         {
          "Score": 0.4822358378035188,
          "Split": "Test",
          "algorithm": "ANN",
          "dataset": "abalone",
          "hyperparameters": "Best_Hyperparameters",
          "param_MLP__max_iter": 1
         },
         {
          "Score": 0.5535293550752688,
          "Split": "Test",
          "algorithm": "ANN",
          "dataset": "abalone",
          "hyperparameters": "Best_Hyperparameters",
          "param_MLP__max_iter": 2
         },
         {
          "Score": 0.5786429718595008,
          "Split": "Test",
          "algorithm": "ANN",
          "dataset": "abalone",
          "hyperparameters": "Best_Hyperparameters",
          "param_MLP__max_iter": 4
         },
         {
          "Score": 0.6113364259291201,
          "Split": "Test",
          "algorithm": "ANN",
          "dataset": "abalone",
          "hyperparameters": "Best_Hyperparameters",
          "param_MLP__max_iter": 8
         },
         {
          "Score": 0.6331457440308221,
          "Split": "Test",
          "algorithm": "ANN",
          "dataset": "abalone",
          "hyperparameters": "Best_Hyperparameters",
          "param_MLP__max_iter": 16
         },
         {
          "Score": 0.6493618290874061,
          "Split": "Test",
          "algorithm": "ANN",
          "dataset": "abalone",
          "hyperparameters": "Best_Hyperparameters",
          "param_MLP__max_iter": 32
         },
         {
          "Score": 0.6526224882035726,
          "Split": "Test",
          "algorithm": "ANN",
          "dataset": "abalone",
          "hyperparameters": "Best_Hyperparameters",
          "param_MLP__max_iter": 64
         },
         {
          "Score": 0.647394238543539,
          "Split": "Test",
          "algorithm": "ANN",
          "dataset": "abalone",
          "hyperparameters": "Best_Hyperparameters",
          "param_MLP__max_iter": 128
         },
         {
          "Score": 0.647394238543539,
          "Split": "Test",
          "algorithm": "ANN",
          "dataset": "abalone",
          "hyperparameters": "Best_Hyperparameters",
          "param_MLP__max_iter": 256
         },
         {
          "Score": 0.647394238543539,
          "Split": "Test",
          "algorithm": "ANN",
          "dataset": "abalone",
          "hyperparameters": "Best_Hyperparameters",
          "param_MLP__max_iter": 512
         },
         {
          "Score": 0.647394238543539,
          "Split": "Test",
          "algorithm": "ANN",
          "dataset": "abalone",
          "hyperparameters": "Best_Hyperparameters",
          "param_MLP__max_iter": 1024
         },
         {
          "Score": 0.647394238543539,
          "Split": "Test",
          "algorithm": "ANN",
          "dataset": "abalone",
          "hyperparameters": "Best_Hyperparameters",
          "param_MLP__max_iter": 2048
         },
         {
          "Score": 0.647394238543539,
          "Split": "Test",
          "algorithm": "ANN",
          "dataset": "abalone",
          "hyperparameters": "Best_Hyperparameters",
          "param_MLP__max_iter": 2100
         },
         {
          "Score": 0.647394238543539,
          "Split": "Test",
          "algorithm": "ANN",
          "dataset": "abalone",
          "hyperparameters": "Best_Hyperparameters",
          "param_MLP__max_iter": 2200
         },
         {
          "Score": 0.647394238543539,
          "Split": "Test",
          "algorithm": "ANN",
          "dataset": "abalone",
          "hyperparameters": "Best_Hyperparameters",
          "param_MLP__max_iter": 2300
         },
         {
          "Score": 0.647394238543539,
          "Split": "Test",
          "algorithm": "ANN",
          "dataset": "abalone",
          "hyperparameters": "Best_Hyperparameters",
          "param_MLP__max_iter": 2400
         },
         {
          "Score": 0.647394238543539,
          "Split": "Test",
          "algorithm": "ANN",
          "dataset": "abalone",
          "hyperparameters": "Best_Hyperparameters",
          "param_MLP__max_iter": 2500
         },
         {
          "Score": 0.647394238543539,
          "Split": "Test",
          "algorithm": "ANN",
          "dataset": "abalone",
          "hyperparameters": "Best_Hyperparameters",
          "param_MLP__max_iter": 2600
         },
         {
          "Score": 0.647394238543539,
          "Split": "Test",
          "algorithm": "ANN",
          "dataset": "abalone",
          "hyperparameters": "Best_Hyperparameters",
          "param_MLP__max_iter": 2700
         },
         {
          "Score": 0.647394238543539,
          "Split": "Test",
          "algorithm": "ANN",
          "dataset": "abalone",
          "hyperparameters": "Best_Hyperparameters",
          "param_MLP__max_iter": 2800
         },
         {
          "Score": 0.647394238543539,
          "Split": "Test",
          "algorithm": "ANN",
          "dataset": "abalone",
          "hyperparameters": "Best_Hyperparameters",
          "param_MLP__max_iter": 2900
         },
         {
          "Score": 0.647394238543539,
          "Split": "Test",
          "algorithm": "ANN",
          "dataset": "abalone",
          "hyperparameters": "Best_Hyperparameters",
          "param_MLP__max_iter": 3000
         },
         {
          "Score": 0.4846742482707681,
          "Split": "Train",
          "algorithm": "ANN",
          "dataset": "abalone",
          "hyperparameters": "Best_Hyperparameters",
          "param_MLP__max_iter": 1
         },
         {
          "Score": 0.5655315754350815,
          "Split": "Train",
          "algorithm": "ANN",
          "dataset": "abalone",
          "hyperparameters": "Best_Hyperparameters",
          "param_MLP__max_iter": 2
         },
         {
          "Score": 0.5889527762359177,
          "Split": "Train",
          "algorithm": "ANN",
          "dataset": "abalone",
          "hyperparameters": "Best_Hyperparameters",
          "param_MLP__max_iter": 4
         },
         {
          "Score": 0.6142793933520689,
          "Split": "Train",
          "algorithm": "ANN",
          "dataset": "abalone",
          "hyperparameters": "Best_Hyperparameters",
          "param_MLP__max_iter": 8
         },
         {
          "Score": 0.6531792236822093,
          "Split": "Train",
          "algorithm": "ANN",
          "dataset": "abalone",
          "hyperparameters": "Best_Hyperparameters",
          "param_MLP__max_iter": 16
         },
         {
          "Score": 0.6639832341431786,
          "Split": "Train",
          "algorithm": "ANN",
          "dataset": "abalone",
          "hyperparameters": "Best_Hyperparameters",
          "param_MLP__max_iter": 32
         },
         {
          "Score": 0.6680605101761398,
          "Split": "Train",
          "algorithm": "ANN",
          "dataset": "abalone",
          "hyperparameters": "Best_Hyperparameters",
          "param_MLP__max_iter": 64
         },
         {
          "Score": 0.663552412004949,
          "Split": "Train",
          "algorithm": "ANN",
          "dataset": "abalone",
          "hyperparameters": "Best_Hyperparameters",
          "param_MLP__max_iter": 128
         },
         {
          "Score": 0.663552412004949,
          "Split": "Train",
          "algorithm": "ANN",
          "dataset": "abalone",
          "hyperparameters": "Best_Hyperparameters",
          "param_MLP__max_iter": 256
         },
         {
          "Score": 0.663552412004949,
          "Split": "Train",
          "algorithm": "ANN",
          "dataset": "abalone",
          "hyperparameters": "Best_Hyperparameters",
          "param_MLP__max_iter": 512
         },
         {
          "Score": 0.663552412004949,
          "Split": "Train",
          "algorithm": "ANN",
          "dataset": "abalone",
          "hyperparameters": "Best_Hyperparameters",
          "param_MLP__max_iter": 1024
         },
         {
          "Score": 0.663552412004949,
          "Split": "Train",
          "algorithm": "ANN",
          "dataset": "abalone",
          "hyperparameters": "Best_Hyperparameters",
          "param_MLP__max_iter": 2048
         },
         {
          "Score": 0.663552412004949,
          "Split": "Train",
          "algorithm": "ANN",
          "dataset": "abalone",
          "hyperparameters": "Best_Hyperparameters",
          "param_MLP__max_iter": 2100
         },
         {
          "Score": 0.663552412004949,
          "Split": "Train",
          "algorithm": "ANN",
          "dataset": "abalone",
          "hyperparameters": "Best_Hyperparameters",
          "param_MLP__max_iter": 2200
         },
         {
          "Score": 0.663552412004949,
          "Split": "Train",
          "algorithm": "ANN",
          "dataset": "abalone",
          "hyperparameters": "Best_Hyperparameters",
          "param_MLP__max_iter": 2300
         },
         {
          "Score": 0.663552412004949,
          "Split": "Train",
          "algorithm": "ANN",
          "dataset": "abalone",
          "hyperparameters": "Best_Hyperparameters",
          "param_MLP__max_iter": 2400
         },
         {
          "Score": 0.663552412004949,
          "Split": "Train",
          "algorithm": "ANN",
          "dataset": "abalone",
          "hyperparameters": "Best_Hyperparameters",
          "param_MLP__max_iter": 2500
         },
         {
          "Score": 0.663552412004949,
          "Split": "Train",
          "algorithm": "ANN",
          "dataset": "abalone",
          "hyperparameters": "Best_Hyperparameters",
          "param_MLP__max_iter": 2600
         },
         {
          "Score": 0.663552412004949,
          "Split": "Train",
          "algorithm": "ANN",
          "dataset": "abalone",
          "hyperparameters": "Best_Hyperparameters",
          "param_MLP__max_iter": 2700
         },
         {
          "Score": 0.663552412004949,
          "Split": "Train",
          "algorithm": "ANN",
          "dataset": "abalone",
          "hyperparameters": "Best_Hyperparameters",
          "param_MLP__max_iter": 2800
         },
         {
          "Score": 0.663552412004949,
          "Split": "Train",
          "algorithm": "ANN",
          "dataset": "abalone",
          "hyperparameters": "Best_Hyperparameters",
          "param_MLP__max_iter": 2900
         },
         {
          "Score": 0.663552412004949,
          "Split": "Train",
          "algorithm": "ANN",
          "dataset": "abalone",
          "hyperparameters": "Best_Hyperparameters",
          "param_MLP__max_iter": 3000
         },
         {
          "Score": 0.4853245777937133,
          "Split": "Test",
          "algorithm": "ANN",
          "dataset": "abalone",
          "hyperparameters": "No_Regularization",
          "param_MLP__max_iter": 1
         },
         {
          "Score": 0.5585029986707792,
          "Split": "Test",
          "algorithm": "ANN",
          "dataset": "abalone",
          "hyperparameters": "No_Regularization",
          "param_MLP__max_iter": 2
         },
         {
          "Score": 0.5836048788312518,
          "Split": "Test",
          "algorithm": "ANN",
          "dataset": "abalone",
          "hyperparameters": "No_Regularization",
          "param_MLP__max_iter": 4
         },
         {
          "Score": 0.607263890666992,
          "Split": "Test",
          "algorithm": "ANN",
          "dataset": "abalone",
          "hyperparameters": "No_Regularization",
          "param_MLP__max_iter": 8
         },
         {
          "Score": 0.6385333345957295,
          "Split": "Test",
          "algorithm": "ANN",
          "dataset": "abalone",
          "hyperparameters": "No_Regularization",
          "param_MLP__max_iter": 16
         },
         {
          "Score": 0.6463936479160153,
          "Split": "Test",
          "algorithm": "ANN",
          "dataset": "abalone",
          "hyperparameters": "No_Regularization",
          "param_MLP__max_iter": 32
         },
         {
          "Score": 0.6459063539089703,
          "Split": "Test",
          "algorithm": "ANN",
          "dataset": "abalone",
          "hyperparameters": "No_Regularization",
          "param_MLP__max_iter": 64
         },
         {
          "Score": 0.6459063539089703,
          "Split": "Test",
          "algorithm": "ANN",
          "dataset": "abalone",
          "hyperparameters": "No_Regularization",
          "param_MLP__max_iter": 128
         },
         {
          "Score": 0.6459063539089703,
          "Split": "Test",
          "algorithm": "ANN",
          "dataset": "abalone",
          "hyperparameters": "No_Regularization",
          "param_MLP__max_iter": 256
         },
         {
          "Score": 0.6459063539089703,
          "Split": "Test",
          "algorithm": "ANN",
          "dataset": "abalone",
          "hyperparameters": "No_Regularization",
          "param_MLP__max_iter": 512
         },
         {
          "Score": 0.6459063539089703,
          "Split": "Test",
          "algorithm": "ANN",
          "dataset": "abalone",
          "hyperparameters": "No_Regularization",
          "param_MLP__max_iter": 1024
         },
         {
          "Score": 0.6459063539089703,
          "Split": "Test",
          "algorithm": "ANN",
          "dataset": "abalone",
          "hyperparameters": "No_Regularization",
          "param_MLP__max_iter": 2048
         },
         {
          "Score": 0.6459063539089703,
          "Split": "Test",
          "algorithm": "ANN",
          "dataset": "abalone",
          "hyperparameters": "No_Regularization",
          "param_MLP__max_iter": 2100
         },
         {
          "Score": 0.6459063539089703,
          "Split": "Test",
          "algorithm": "ANN",
          "dataset": "abalone",
          "hyperparameters": "No_Regularization",
          "param_MLP__max_iter": 2200
         },
         {
          "Score": 0.6459063539089703,
          "Split": "Test",
          "algorithm": "ANN",
          "dataset": "abalone",
          "hyperparameters": "No_Regularization",
          "param_MLP__max_iter": 2300
         },
         {
          "Score": 0.6459063539089703,
          "Split": "Test",
          "algorithm": "ANN",
          "dataset": "abalone",
          "hyperparameters": "No_Regularization",
          "param_MLP__max_iter": 2400
         },
         {
          "Score": 0.6459063539089703,
          "Split": "Test",
          "algorithm": "ANN",
          "dataset": "abalone",
          "hyperparameters": "No_Regularization",
          "param_MLP__max_iter": 2500
         },
         {
          "Score": 0.6459063539089703,
          "Split": "Test",
          "algorithm": "ANN",
          "dataset": "abalone",
          "hyperparameters": "No_Regularization",
          "param_MLP__max_iter": 2600
         },
         {
          "Score": 0.6459063539089703,
          "Split": "Test",
          "algorithm": "ANN",
          "dataset": "abalone",
          "hyperparameters": "No_Regularization",
          "param_MLP__max_iter": 2700
         },
         {
          "Score": 0.6459063539089703,
          "Split": "Test",
          "algorithm": "ANN",
          "dataset": "abalone",
          "hyperparameters": "No_Regularization",
          "param_MLP__max_iter": 2800
         },
         {
          "Score": 0.6459063539089703,
          "Split": "Test",
          "algorithm": "ANN",
          "dataset": "abalone",
          "hyperparameters": "No_Regularization",
          "param_MLP__max_iter": 2900
         },
         {
          "Score": 0.6459063539089703,
          "Split": "Test",
          "algorithm": "ANN",
          "dataset": "abalone",
          "hyperparameters": "No_Regularization",
          "param_MLP__max_iter": 3000
         },
         {
          "Score": 0.4866254668246752,
          "Split": "Train",
          "algorithm": "ANN",
          "dataset": "abalone",
          "hyperparameters": "No_Regularization",
          "param_MLP__max_iter": 1
         },
         {
          "Score": 0.5645057286490694,
          "Split": "Train",
          "algorithm": "ANN",
          "dataset": "abalone",
          "hyperparameters": "No_Regularization",
          "param_MLP__max_iter": 2
         },
         {
          "Score": 0.5875956340298218,
          "Split": "Train",
          "algorithm": "ANN",
          "dataset": "abalone",
          "hyperparameters": "No_Regularization",
          "param_MLP__max_iter": 4
         },
         {
          "Score": 0.6134385733963015,
          "Split": "Train",
          "algorithm": "ANN",
          "dataset": "abalone",
          "hyperparameters": "No_Regularization",
          "param_MLP__max_iter": 8
         },
         {
          "Score": 0.6578517352567774,
          "Split": "Train",
          "algorithm": "ANN",
          "dataset": "abalone",
          "hyperparameters": "No_Regularization",
          "param_MLP__max_iter": 16
         },
         {
          "Score": 0.6627875369376561,
          "Split": "Train",
          "algorithm": "ANN",
          "dataset": "abalone",
          "hyperparameters": "No_Regularization",
          "param_MLP__max_iter": 32
         },
         {
          "Score": 0.6628525471257779,
          "Split": "Train",
          "algorithm": "ANN",
          "dataset": "abalone",
          "hyperparameters": "No_Regularization",
          "param_MLP__max_iter": 64
         },
         {
          "Score": 0.6628525471257779,
          "Split": "Train",
          "algorithm": "ANN",
          "dataset": "abalone",
          "hyperparameters": "No_Regularization",
          "param_MLP__max_iter": 128
         },
         {
          "Score": 0.6628525471257779,
          "Split": "Train",
          "algorithm": "ANN",
          "dataset": "abalone",
          "hyperparameters": "No_Regularization",
          "param_MLP__max_iter": 256
         },
         {
          "Score": 0.6628525471257779,
          "Split": "Train",
          "algorithm": "ANN",
          "dataset": "abalone",
          "hyperparameters": "No_Regularization",
          "param_MLP__max_iter": 512
         },
         {
          "Score": 0.6628525471257779,
          "Split": "Train",
          "algorithm": "ANN",
          "dataset": "abalone",
          "hyperparameters": "No_Regularization",
          "param_MLP__max_iter": 1024
         },
         {
          "Score": 0.6628525471257779,
          "Split": "Train",
          "algorithm": "ANN",
          "dataset": "abalone",
          "hyperparameters": "No_Regularization",
          "param_MLP__max_iter": 2048
         },
         {
          "Score": 0.6628525471257779,
          "Split": "Train",
          "algorithm": "ANN",
          "dataset": "abalone",
          "hyperparameters": "No_Regularization",
          "param_MLP__max_iter": 2100
         },
         {
          "Score": 0.6628525471257779,
          "Split": "Train",
          "algorithm": "ANN",
          "dataset": "abalone",
          "hyperparameters": "No_Regularization",
          "param_MLP__max_iter": 2200
         },
         {
          "Score": 0.6628525471257779,
          "Split": "Train",
          "algorithm": "ANN",
          "dataset": "abalone",
          "hyperparameters": "No_Regularization",
          "param_MLP__max_iter": 2300
         },
         {
          "Score": 0.6628525471257779,
          "Split": "Train",
          "algorithm": "ANN",
          "dataset": "abalone",
          "hyperparameters": "No_Regularization",
          "param_MLP__max_iter": 2400
         },
         {
          "Score": 0.6628525471257779,
          "Split": "Train",
          "algorithm": "ANN",
          "dataset": "abalone",
          "hyperparameters": "No_Regularization",
          "param_MLP__max_iter": 2500
         },
         {
          "Score": 0.6628525471257779,
          "Split": "Train",
          "algorithm": "ANN",
          "dataset": "abalone",
          "hyperparameters": "No_Regularization",
          "param_MLP__max_iter": 2600
         },
         {
          "Score": 0.6628525471257779,
          "Split": "Train",
          "algorithm": "ANN",
          "dataset": "abalone",
          "hyperparameters": "No_Regularization",
          "param_MLP__max_iter": 2700
         },
         {
          "Score": 0.6628525471257779,
          "Split": "Train",
          "algorithm": "ANN",
          "dataset": "abalone",
          "hyperparameters": "No_Regularization",
          "param_MLP__max_iter": 2800
         },
         {
          "Score": 0.6628525471257779,
          "Split": "Train",
          "algorithm": "ANN",
          "dataset": "abalone",
          "hyperparameters": "No_Regularization",
          "param_MLP__max_iter": 2900
         },
         {
          "Score": 0.6628525471257779,
          "Split": "Train",
          "algorithm": "ANN",
          "dataset": "abalone",
          "hyperparameters": "No_Regularization",
          "param_MLP__max_iter": 3000
         }
        ]
       },
       "encoding": {
        "color": {
         "field": "Split",
         "type": "nominal"
        },
        "column": {
         "field": "hyperparameters",
         "type": "nominal"
        },
        "x": {
         "axis": {
          "title": "Max_Iterations"
         },
         "field": "param_MLP__max_iter",
         "type": "quantitative"
        },
        "y": {
         "field": "Score",
         "scale": {
          "domain": [
           0,
           1
          ]
         },
         "type": "quantitative"
        }
       },
       "mark": "line",
       "selection": {
        "selector004": {
         "bind": "scales",
         "encodings": [
          "x",
          "y"
         ],
         "mark": {
          "fill": "#333",
          "fillOpacity": 0.125,
          "stroke": "white"
         },
         "on": "[mousedown, window:mouseup] > window:mousemove!",
         "resolve": "global",
         "translate": "[mousedown, window:mouseup] > window:mousemove!",
         "type": "interval",
         "zoom": "wheel!"
        }
       }
      },
      "image/png": "[encoded data removed]",
      "text/plain": [
       "<VegaLite 2 object>\n",
       "\n",
       "If you see this message, it means the renderer has not been properly enabled\n",
       "for the frontend that you are using. For more information, see\n",
       "https://altair-viz.github.io/user_guide/troubleshooting.html\n"
      ]
     },
     "execution_count": 64,
     "metadata": {},
     "output_type": "execute_result"
    }
   ],
   "source": [
    "alt.Chart(get_overfitting_curve(df_dict, dataset='abalone', algorithm='ANN')).mark_line().encode(\n",
    "    x=alt.X('param_MLP__max_iter:Q', axis=alt.Axis(title='Max_Iterations')),\n",
    "    y=alt.Y('Score:Q', scale=alt.Scale(domain=[0.0, 1.0])),\n",
    "    color='Split:N',\n",
    "    column='hyperparameters'\n",
    ").interactive()"
   ]
  },
  {
   "cell_type": "code",
   "execution_count": null,
   "metadata": {},
   "outputs": [],
   "source": []
  }
 ],
 "metadata": {
  "kernelspec": {
   "display_name": "ml",
   "language": "python",
   "name": "ml"
  },
  "language_info": {
   "codemirror_mode": {
    "name": "ipython",
    "version": 3
   },
   "file_extension": ".py",
   "mimetype": "text/x-python",
   "name": "python",
   "nbconvert_exporter": "python",
   "pygments_lexer": "ipython3",
   "version": "3.7.0"
  }
 },
 "nbformat": 4,
 "nbformat_minor": 2
}
